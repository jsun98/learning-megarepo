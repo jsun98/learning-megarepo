{
 "cells": [
  {
   "cell_type": "markdown",
   "metadata": {},
   "source": [
    "# Introduction\n",
    "## What is Hadoop\n",
    "A reliable, scalable platform for storage and analysis that is affordable and runs on commodity hardware. Hadoop consists of the `Hadoop Distributed File System` (HDFS) and `MapReduce`, a programming model used for batch processing. \n",
    "\n",
    "## Hadoop vs RDBMS\n",
    "Hadoop\n",
    "    - batch processing the entire dataset\n",
    "    - disk transfer rate (streaming data)\n",
    "    - petabytes\n",
    "    - write once, read many times\n",
    "    - schema-on-read\n",
    "    - scales linearly\n",
    "    - non-structured and semi-strcutured data\n",
    "    - data locality\n",
    "\n",
    "RDBMS\n",
    "    - point queries and updates on an indexed, relatively small dataset\n",
    "    - disk seek (moving the read head)\n",
    "    - gigabytes\n",
    "    - read and write many times\n",
    "    - schema-on-write\n",
    "    - scales nonlinearly \n",
    "    - structured data\n",
    "\n",
    "## History and Numbers\n",
    "- Created by Doug Cutting\n",
    "- Hadoop had its origins in Apache Nutch, an open source web search engine\n",
    "- In 2005, the Nutch Distributed Filesystem (NDFS) was developed using MapReduce and ideas from the Google File System\n",
    "- In Febuary 2006, Hadoop became an independent project \n",
    "- In 2006, Doug Cutting joined Yahoo!\n",
    "- In 2008, Hadoop was put into production at Yahoo! Search\n",
    "- In 2008, Hadoop become the fastest system to sort an entire terabyte of data. Running on a 910-node cluster, Hadoop sorted 1 terabyte in 209 seconds\n",
    "- In 2009, a team at Yahoo! had used Hadoop to sort 1 terabyte in 62 seconds"
   ]
  }
 ],
 "metadata": {
  "kernelspec": {
   "display_name": "Python 3",
   "language": "python",
   "name": "python3"
  },
  "language_info": {
   "codemirror_mode": {
    "name": "ipython",
    "version": 3
   },
   "file_extension": ".py",
   "mimetype": "text/x-python",
   "name": "python",
   "nbconvert_exporter": "python",
   "pygments_lexer": "ipython3",
   "version": "3.6.3"
  }
 },
 "nbformat": 4,
 "nbformat_minor": 2
}
