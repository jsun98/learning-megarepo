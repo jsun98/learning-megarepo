{
 "cells": [
  {
   "cell_type": "markdown",
   "metadata": {},
   "source": [
    "# Deep Learning Notes"
   ]
  },
  {
   "cell_type": "markdown",
   "metadata": {},
   "source": [
    "## Logistic Regression\n",
    "### Hypothesis\n",
    "$$\n",
    "a = \\sigma(w^Tx + b) \\\\\n",
    "where \\ x \\in R^n, w \\in R^n, b \\in R, \\sigma(z)=\\frac{1}{1+e^{-z}} \\\\\n",
    "for\\ n\\ training\\ examples\n",
    "$$\n",
    "\n",
    "### Loss Function\n",
    "$$\n",
    "L(a, y) = -(y\\log a + (1-y)\\log(1-a))\n",
    "$$\n",
    "\n",
    "### Cost Function\n",
    "$$\n",
    "J(w,b) = \\frac{1}{m}\\sum_{i=1}^mL(a^{(i)}, y^{(i)}) \\\\\n",
    "= -\\frac{1}{m}\\sum_{i=1}^m \\lbrack y^{(i)}\\log a^{(i)} + (1-y^{(i)})\\log(1-a^{(i)}) \\rbrack \\\\\n",
    "where\\ (a^{(i)}, y^{(i)})\\ refers\\ to\\ the\\ i^{th}\\ training\\ example \\\\\n",
    "for\\ m\\ training\\ examples\n",
    "$$\n",
    "\n",
    "### Gradient Descent\n",
    "$$\n",
    "Repeat\\ \\{\\ \n",
    "w := w - \\alpha\\frac{\\partial}{\\partial w}J(w, b)\n",
    "\\ \\}\n",
    "$$"
   ]
  },
  {
   "cell_type": "markdown",
   "metadata": {},
   "source": [
    "## Computation Graph and Derivatives\n",
    "<img src='./src/computation-graph.png' />\n",
    "**NEED REVISION**\n",
    "$$\n",
    "\\frac{\\partial L(a,y)}{\\partial z} = \\frac{\\partial L(a,y)}{\\partial a} \\frac{\\partial a}{\\partial z}\\\\\n",
    "\\frac{\\partial}{\\partial w} L(a,y) = \\frac{\\partial L(a,y)}{\\partial z} \\frac{\\partial z}{\\partial w} = x \\frac{\\partial L(a,y)}{\\partial z}\\\\\n",
    "\\frac{\\partial}{\\partial w} J(w,b) = \\frac{1}{m} \\sum^m_{i=1} \\frac{\\partial}{\\partial w} L(a,y)\n",
    "$$\n",
    "Note: each (a, y) refers to a **single** (i.e. not a vector) training example and each w refers to a **single** (i.e. not a vector) parameter corrosponding to a input feature. x refers to a **single** input feature value corrosponding to w.\n",
    "\n",
    "Assume there are m training examples and w is a vector of size n"
   ]
  },
  {
   "cell_type": "code",
   "execution_count": null,
   "metadata": {
    "collapsed": true
   },
   "outputs": [],
   "source": []
  }
 ],
 "metadata": {
  "kernelspec": {
   "display_name": "Python 3",
   "language": "python",
   "name": "python3"
  },
  "language_info": {
   "codemirror_mode": {
    "name": "ipython",
    "version": 3
   },
   "file_extension": ".py",
   "mimetype": "text/x-python",
   "name": "python",
   "nbconvert_exporter": "python",
   "pygments_lexer": "ipython3",
   "version": "3.6.3"
  }
 },
 "nbformat": 4,
 "nbformat_minor": 2
}
