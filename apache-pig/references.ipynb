{
 "cells": [
  {
   "cell_type": "markdown",
   "metadata": {},
   "source": [
    "# Apache Pig References"
   ]
  },
  {
   "cell_type": "markdown",
   "metadata": {},
   "source": [
    "## Data types\n",
    "1. int\n",
    "2. long\n",
    "3. float\n",
    "4. double\n",
    "5. chararray\n",
    "7. Boolean\n",
    "8. DateTime\n",
    "11. Tuple - ordered set of fields, ex. ('josh', 19)\n",
    "12. Bag - ordered set of Tuples, ex. {('josh', 19), ('eric', 20)}\n",
    "13. Map - a set of key-value pairs, ex.[‘name’#’Raju’, ‘age’#30]\n",
    "\n",
    "any of the above can be **NULL**"
   ]
  },
  {
   "cell_type": "markdown",
   "metadata": {},
   "source": [
    "## Relational operators\n",
    "<img src='src/relational_operators.png' />\n",
    "\n",
    "### Examples\n",
    "```pig\n",
    "-- loading data\n",
    "students = LOAD 'test/students.txt' USING PigStorage(',') as (id:int, firstname:chararray, lastname:chararray, phone:chararray, city:chararray );\n",
    "\n",
    "-- storing data\n",
    "STORE students INTO 'output/' USING PigStorage (',');\n",
    "\n",
    "-- group by\n",
    "-- output will be {group: dataType, relation_name: {...}}\n",
    "Group_data = GROUP Relation_name BY age;\n",
    "\n",
    "-- group by multiple columns\n",
    "group_multiple = GROUP student_details by (age, city);\n",
    "\n",
    "-- cogroup\n",
    "-- output will be { group: dataType, relation1_name: {...}, relation2_name: {...}, ... , relationx_name: {...} }\n",
    "cogroup_data = COGROUP student_details by age, employee_details by age;\n",
    "\n",
    "\n",
    "-- joins: joins relations by key, if keys don't match then drop relation\n",
    "-- self-join, relation1 and relation2 are loaded from the same source\n",
    "Relation3_name = JOIN Relation1_name BY key, Relation2_name BY key ;\n",
    "\n",
    "-- inner join (similar to self join)\n",
    "Relation3_name = JOIN Relation1_name BY key, Relation2_name BY key ;\n",
    "\n",
    "-- left outer join - returns all elements in left table even if no match, and only matched items in right\n",
    "Relation3_name = JOIN Relation1_name BY id LEFT OUTER, Relation2_name BY customer_id;\n",
    "\n",
    "-- right outer join - returns all elements in right table even if no match, and only matched items in left\n",
    "outer_right = JOIN customers BY id RIGHT, orders BY customer_id;\n",
    "\n",
    "-- full outer join - return all elements in both tables even if no match\n",
    "outer_full = JOIN customers BY id FULL OUTER, orders BY customer_id;\n",
    "\n",
    "-- multiple keys join\n",
    "Relation3_name = JOIN Relation2_name BY (key1, key2), Relation3_name BY (key1, key2);\n",
    "\n",
    "\n",
    "-- combining and spliting\n",
    "-- union\n",
    "student = UNION student1, student2;\n",
    "\n",
    "-- split\n",
    "SPLIT Relation1_name INTO Relation2_name IF (condition1), Relation2_name (condition2)\n",
    "-- example\n",
    "SPLIT student_details into student_details1 if age<23, student_details2 if (22<age and age>25)\n",
    "\n",
    "-- filtering\n",
    "-- filter\n",
    "Relation2_name = FILTER Relation1_name BY (condition);\n",
    "-- exaple\n",
    "filter_data = FILTER student_details BY city == 'Chennai';\n",
    "\n",
    "-- distinct\n",
    "Relation_name2 = DISTINCT Relatin_name1;\n",
    "\n",
    "-- foreach\n",
    "Relation_name2 = FOREACH Relatin_name1 GENERATE (required data);\n",
    "-- example\n",
    "foreach_data = FOREACH student_details GENERATE id,age,city;\n",
    "\n",
    "-- sorting\n",
    "-- order by\n",
    "Relation_name2 = ORDER Relatin_name1 BY (ASC|DESC);\n",
    "\n",
    "-- limit\n",
    "Result = LIMIT Relation_name numOfRequiredTuples\n",
    "```"
   ]
  },
  {
   "cell_type": "markdown",
   "metadata": {},
   "source": [
    "## Eval Functions\n",
    "<img src='./src/eval_functions.png' />\n",
    "\n"
   ]
  },
  {
   "cell_type": "markdown",
   "metadata": {},
   "source": [
    "## User Defined Functions (UDFs)\n",
    "```pig\n",
    "-- register UDF\n",
    "REGISTER 'xxx.jar'; \n",
    "\n",
    "-- define alias\n",
    "DEFINE alias com.xxx.Construcotr(args...);\n",
    "\n",
    "\n",
    "```"
   ]
  },
  {
   "cell_type": "code",
   "execution_count": null,
   "metadata": {
    "collapsed": true
   },
   "outputs": [],
   "source": []
  }
 ],
 "metadata": {
  "kernelspec": {
   "display_name": "Python 3",
   "language": "python",
   "name": "python3"
  },
  "language_info": {
   "codemirror_mode": {
    "name": "ipython",
    "version": 3
   },
   "file_extension": ".py",
   "mimetype": "text/x-python",
   "name": "python",
   "nbconvert_exporter": "python",
   "pygments_lexer": "ipython3",
   "version": "3.6.3"
  }
 },
 "nbformat": 4,
 "nbformat_minor": 2
}
