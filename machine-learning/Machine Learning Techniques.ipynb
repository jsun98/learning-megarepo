{
 "cells": [
  {
   "cell_type": "markdown",
   "metadata": {},
   "source": [
    "# General Machine Learning Techniques\n",
    "[resource](http://www.statsoft.com/Textbook)"
   ]
  },
  {
   "cell_type": "markdown",
   "metadata": {},
   "source": [
    "## Naive Bayesian Classification Algorithm\n",
    "[source1](http://www.statsoft.com/textbook/naive-bayes-classifier)\n",
    "[source2](http://software.ucv.ro/~cmihaescu/ro/teaching/AIR/docs/Lab4-NaiveBayes.pdf)\n",
    "\n",
    "### Overview\n",
    "The Naive Bayes Classifier technique is based on the so-called Bayesian theorem and is particularly suited when the dimensionality of the inputs is high. Despite its simplicity, Naive Bayes can often outperform more sophisticated classification methods.\n",
    "\n",
    "*Naive Independence Assumption*: A Native Bayes algorithm assume that the presence of a particular feature in a class is **unrelated** to the presence of any other feature\n",
    "\n",
    "$$\n",
    "posterior = \\frac{prior \\times likelihood}{evidence}\n",
    "$$\n",
    "\n",
    "$$\n",
    "P(C_k\\vert x)=\\frac{P(C_k)P(x\\vert C_k)}{P(x)} \n",
    "$$\n",
    "for k classifications, x $\\in\\ R^n$, for n input features\n",
    "\n",
    "\n",
    "\n",
    "### Baye's Therorem\n",
    "$$\n",
    "P(A\\vert B) = \\frac{P(B\\vert A)P(A)}{P(B)} \n",
    "$$\n",
    "\n",
    "### Prior Probability\n",
    "![](http://www.statsoft.com/textbook/graphics/NaiveBayesIntro1.gif)\n",
    "$$\n",
    "P(C_k) = \\frac{}{}\n",
    "$$\n",
    "\n",
    "### Probability Model\n",
    "$$\n",
    "P(C_k | x) \\\\\n",
    "= \\frac{P(x | C_k)P(C_k)}{P(x)} \\\\\n",
    "= \\frac{P(x, C_k)}{P(x)} \\\\\n",
    "= \\frac{P(x_1 | x_2,...,x_n,C_k)P(x_2,...,x_n,C_k)}{P(x)} \\\\\n",
    "= \\frac{P(x_1 | x_2,...,x_n,C_k)P(x_2 | x_3,...,x_n,C_k)P(x_3,...,x_n,C_k)}{P(x)} \\\\\n",
    "... \\\\\n",
    "= \\frac{P(C_k) \\prod_1^i P(x_i | C_k)}{P(x)}\n",
    "$$"
   ]
  },
  {
   "cell_type": "code",
   "execution_count": null,
   "metadata": {
    "collapsed": true
   },
   "outputs": [],
   "source": []
  }
 ],
 "metadata": {
  "kernelspec": {
   "display_name": "Python 3",
   "language": "python",
   "name": "python3"
  },
  "language_info": {
   "codemirror_mode": {
    "name": "ipython",
    "version": 3
   },
   "file_extension": ".py",
   "mimetype": "text/x-python",
   "name": "python",
   "nbconvert_exporter": "python",
   "pygments_lexer": "ipython3",
   "version": "3.6.3"
  }
 },
 "nbformat": 4,
 "nbformat_minor": 2
}
