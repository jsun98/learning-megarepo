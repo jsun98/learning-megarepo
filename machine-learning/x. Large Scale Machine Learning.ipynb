{
 "cells": [
  {
   "cell_type": "markdown",
   "metadata": {},
   "source": [
    "# Large Scale Machine Learning\n",
    "\n",
    "## Comparisons\n",
    "Batch gradient descent: use all m example to calculate gradient\n",
    "\n",
    "Stochastic gradient descent: use 1 exmaple in each iteration\n",
    "\n",
    "Mini-batch gradient descent: use b examples in each iteration\n",
    "\n",
    "## Stochastic Gradient Descent\n",
    "If m is large, then calculating the gradient $\\sum_{i=1}^mloss(\\theta,(x^{(i)}, y^{(i)}))$ would be very expensive\n",
    "\n",
    "<img src='./img/stochastic-gd.png' />\n",
    "\n",
    "\n",
    "this updates $\\theta$ to fit one training example at a time. Instead of running over all m training examples before updating m. \n",
    "\n",
    "## Mini-Batch Gradient Descent\n",
    "<img src='./img/mini-batch-gd.png' />\n",
    "\n",
    "This is only faster than stochastic gradient descent only if there is good vectorization implementation, which allows gradients to be calculated in parallel\n",
    "\n",
    "## Convergence of Stochastic Gradient Descent\n",
    "Calculate the $cost(\\theta, (x^{(i)}, y^{(i)}))$ **before** updating $\\theta$ using that training example\n",
    "\n",
    "## Adaptive learning rate\n",
    "ex. $\\alpha = \\frac{const1}{iterationNumber + const2}$\n",
    "\n",
    "This can help $\\theta$ to convert in Stochastic Gradient Descent\n",
    "\n",
    "## Online Learning\n",
    "there is a continuous stream of data/training examples coming in. Stochastic Gradient Descent can be used since it trains on a single training example at a time.\n",
    "\n",
    "## MapReduce\n",
    "Distribute the computation of gradients over multiple machines. Say we have 400 examples and 4 machines, then:\n",
    "<img src='./img/mapreduce.png' />\n",
    "\n"
   ]
  },
  {
   "cell_type": "code",
   "execution_count": null,
   "metadata": {
    "collapsed": true
   },
   "outputs": [],
   "source": []
  }
 ],
 "metadata": {
  "kernelspec": {
   "display_name": "Python 3",
   "language": "python",
   "name": "python3"
  },
  "language_info": {
   "codemirror_mode": {
    "name": "ipython",
    "version": 3
   },
   "file_extension": ".py",
   "mimetype": "text/x-python",
   "name": "python",
   "nbconvert_exporter": "python",
   "pygments_lexer": "ipython3",
   "version": "3.6.3"
  }
 },
 "nbformat": 4,
 "nbformat_minor": 2
}
