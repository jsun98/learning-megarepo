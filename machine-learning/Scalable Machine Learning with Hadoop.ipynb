{
 "cells": [
  {
   "cell_type": "markdown",
   "metadata": {},
   "source": [
    "# Machine Learning at Scale\n",
    "Terascale machine learning can be achieved by leveraging the use of Apache Hadoop, HDFS, Hadoop-Streaming, Spark and various distributed algorithms and data structures.\n",
    "\n",
    "\n",
    "## VW on HDFS\n",
    "1. A spanning tree structure is initialized using the control machine (gateway) and the mappers that are part of a map-only MapReduce? job\n",
    "2. The control machine is there to simply tell each node/mapper which other node is its parent and who its children are.\n",
    "3. The tree will implement an MPI AllReducelike operation whereby each node / mapper computes a certain value (typically, the gradient of the cost function wrt to the parameters). `all_reduce` is implemented as a combination of `reduce` and `broadcast` routines. reduce reads data from children, adds it with local data and passes it up to the parent with a call to pass_up broadcast receives data from parent, and passes it down to children with a call to pass_down. This is the `Reduce` operation in MPI parlance.\n",
    "4. The root node will then propagate/distribute back the computed vector to each node. This is the `Broadcast` operation.\n",
    "5. Note that the data is streamed to each node only once: VW caching ensures that if the algorithm needs to pass multiple times through the data, it will simply use the locally created cache of the training set shard for the 2nd and subsequent iteration.\n",
    "\n",
    "### Online parallel weight averaging\n",
    "we will train n (number of nodes in the tree) models using online updates, in parallel, and average the weights (plus distribute them back) after each pass through the data - broadcasting phase. This will speed up online learning by a factor of n, with the possible cost of not producing the same weight vector if one had done the online training the usual way.\n"
   ]
  },
  {
   "cell_type": "code",
   "execution_count": null,
   "metadata": {
    "collapsed": true
   },
   "outputs": [],
   "source": []
  }
 ],
 "metadata": {
  "kernelspec": {
   "display_name": "Python 3",
   "language": "python",
   "name": "python3"
  },
  "language_info": {
   "codemirror_mode": {
    "name": "ipython",
    "version": 3
   },
   "file_extension": ".py",
   "mimetype": "text/x-python",
   "name": "python",
   "nbconvert_exporter": "python",
   "pygments_lexer": "ipython3",
   "version": "3.6.3"
  }
 },
 "nbformat": 4,
 "nbformat_minor": 2
}
