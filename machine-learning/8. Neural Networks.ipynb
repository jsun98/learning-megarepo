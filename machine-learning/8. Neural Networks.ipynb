{
 "cells": [
  {
   "cell_type": "markdown",
   "metadata": {},
   "source": [
    "# Neural Networks\n",
    "## Terminology\n",
    "**Activation Function**: sigmoid/logistic function, denoted $a_i^{(j)}$ - activation unit of unit i in layer j\n",
    "\n",
    "**Weights**: parameters $\\theta$\n",
    "\n",
    "**Input layer**: layer 1, where we input our examples\n",
    "\n",
    "**Hidden layer**: layers other than input and output layer\n",
    "\n",
    "**Output layer**: last layer, outputs our hypothesis\n",
    "\n",
    "**$\\Theta^{(j)}$**: matrix of weights controlling function mapping from layer j to layer j + 1\n",
    "\n",
    "\n",
    "## Overview\n",
    "<img src='img/4.1.png' />\n",
    "\n",
    "if network has $s_j$ units in layer j, $s_{j+1}$ units in layer j+ 1, then $\\Theta^{(j)}$ will be of dimension $s_{j+1} \\times (s_j + 1)$\n",
    "\n",
    "this is because $s_{j+1}$ are the rows each of which corrosponds to the parameters of $s_{j+1}$ units in layer j, and $(s_j + 1)$ are the columns each of which is the parameters of the units in layer j and the +1 includes the `bias unit`.\n",
    "\n",
    "## Forward Propagation Vectorization\n",
    "$$\n",
    "z^{(j+1)} = \\Theta^{(j)}a^{(j)} \\\\\n",
    "a^{(j+1)} = g(z^{(j+1)}) \\\\\n",
    "a_0^{(j+1)} = 1\n",
    "$$\n",
    "note: $a^{(1)} = x$\n",
    "## Hypothesis\n"
   ]
  },
  {
   "cell_type": "code",
   "execution_count": null,
   "metadata": {
    "collapsed": true
   },
   "outputs": [],
   "source": []
  },
  {
   "cell_type": "code",
   "execution_count": null,
   "metadata": {
    "collapsed": true
   },
   "outputs": [],
   "source": []
  }
 ],
 "metadata": {
  "kernelspec": {
   "display_name": "Python 3",
   "language": "python",
   "name": "python3"
  },
  "language_info": {
   "codemirror_mode": {
    "name": "ipython",
    "version": 3
   },
   "file_extension": ".py",
   "mimetype": "text/x-python",
   "name": "python",
   "nbconvert_exporter": "python",
   "pygments_lexer": "ipython3",
   "version": "3.6.3"
  }
 },
 "nbformat": 4,
 "nbformat_minor": 2
}
