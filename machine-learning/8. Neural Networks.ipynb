{
 "cells": [
  {
   "cell_type": "markdown",
   "metadata": {},
   "source": [
    "# Neural Networks\n",
    "## Terminology\n",
    "**Activation Function**: sigmoid/logistic function\n",
    "**Weights**: parameters $\\theta$\n",
    "**Input layer**: layer 1, where we input our examples\n",
    "**Hidden layer**: layers other than input and output layer\n",
    "**Output layer**: last layer, outputs our hypothesis"
   ]
  }
 ],
 "metadata": {
  "kernelspec": {
   "display_name": "Python 3",
   "language": "python",
   "name": "python3"
  },
  "language_info": {
   "codemirror_mode": {
    "name": "ipython",
    "version": 3
   },
   "file_extension": ".py",
   "mimetype": "text/x-python",
   "name": "python",
   "nbconvert_exporter": "python",
   "pygments_lexer": "ipython3",
   "version": "3.6.3"
  }
 },
 "nbformat": 4,
 "nbformat_minor": 2
}
