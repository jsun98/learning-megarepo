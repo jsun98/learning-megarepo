{
 "cells": [
  {
   "cell_type": "markdown",
   "metadata": {},
   "source": [
    "# Gradient Descent\n",
    "## Introduction\n",
    "have some $J(\\theta_0, \\theta_1)$, want $min_{\\theta_0, \\theta_1}J(\\theta_0, \\theta_1)$\n",
    "## Outline\n",
    "1. start with some $\\theta_0, \\theta_1$\n",
    "2. keep changing $\\theta_0, \\theta_1$ to reduce J\n",
    "3. hopefully we find the minimum\n",
    "\n",
    "<img src=img/2.1.png width=500px>\n"
   ]
  },
  {
   "cell_type": "markdown",
   "metadata": {},
   "source": [
    "## Gradient Descent Algorithm\n",
    "\n",
    "```repeat until convergence {\n",
    "    $\\theta_j := \\theta_j - \\frac{\\partial}{\\partial\\theta_j}J(\\theta_0, \\theta_1)$\n",
    "```}\n"
   ]
  },
  {
   "cell_type": "raw",
   "metadata": {},
   "source": []
  },
  {
   "cell_type": "code",
   "execution_count": null,
   "metadata": {
    "collapsed": true
   },
   "outputs": [],
   "source": []
  }
 ],
 "metadata": {
  "kernelspec": {
   "display_name": "Python 3",
   "language": "python",
   "name": "python3"
  },
  "language_info": {
   "codemirror_mode": {
    "name": "ipython",
    "version": 3
   },
   "file_extension": ".py",
   "mimetype": "text/x-python",
   "name": "python",
   "nbconvert_exporter": "python",
   "pygments_lexer": "ipython3",
   "version": "3.6.3"
  }
 },
 "nbformat": 4,
 "nbformat_minor": 2
}
