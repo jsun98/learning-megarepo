{
 "cells": [
  {
   "cell_type": "markdown",
   "metadata": {},
   "source": [
    "# Linear Algebra Review"
   ]
  },
  {
   "cell_type": "markdown",
   "metadata": {},
   "source": [
    "## Matrix Vector Multiplication\n",
    "An **m x n** matrix multiplied by an **n x 1** vector results in an m x 1 vector.\n",
    "$$\n",
    "    \\begin{bmatrix}\n",
    "    a & b \\\\\n",
    "    c & d \\\\\n",
    "    e & f \\\\\n",
    "    \\end{bmatrix}\n",
    "     * \n",
    "    \\begin{bmatrix}\n",
    "    x \\\\\n",
    "    y \\\\\n",
    "    \\end{bmatrix}\n",
    "    =\n",
    "    \\begin{bmatrix}\n",
    "    a*x + b*y \\\\\n",
    "    c*x + d*y \\\\\n",
    "    e*x + f*y \\\\\n",
    "    \\end{bmatrix}\n",
    "$$"
   ]
  },
  {
   "cell_type": "markdown",
   "metadata": {},
   "source": [
    "## Matrix Matrix Multiplication\n",
    "An m x n matrix multiplied by an n x o matrix results in an m x o matrix.\n",
    "\n",
    "We multiply two matrices by breaking it into several vector multiplications and concatenating the result.\n",
    "\n",
    "<div>\n",
    "A =\n",
    "\n",
    "   1   2\n",
    "   3   4\n",
    "   5   6\n",
    "\n",
    "B =\n",
    "\n",
    "   1   2\n",
    "   2   3\n",
    "\n",
    "mult_AB =\n",
    "\n",
    "    5    8\n",
    "   11   18\n",
    "   17   28\n",
    "</div>\n",
    "\n",
    "$$\n",
    "    \\begin{bmatrix}\n",
    "    a & b\\\\\n",
    "    c & d \\\\\n",
    "    e & f \\\\\n",
    "    \\end{bmatrix}\n",
    "     * \n",
    "    \\begin{bmatrix}\n",
    "    x \\\\\n",
    "    y \\\\\n",
    "    \\end{bmatrix}\n",
    "    =\n",
    "    \\begin{bmatrix}\n",
    "    a*x + b*y \\\\\n",
    "    c*x + d*y \\\\\n",
    "    e*x + f*y \\\\\n",
    "    \\end{bmatrix}\n",
    "$$"
   ]
  },
  {
   "cell_type": "markdown",
   "metadata": {},
   "source": [
    "## Matrix Multiplication Properties and Definitions\n",
    "1. $A \\times B \\neq B \\times A$ (not commutative)\n",
    "2. $(A \\times B) \\times C = A \\times (B \\times C)$ (associative)\n",
    "3. the **identity matrix** is a matrix with 1's on its diagonal and 0's everywhere else, when multiplied by a matrix of the same dimension, the result is the original matrix\n",
    "4. The **inverse** of a matrix A is denoted $A^{-1}$. Multiplying by the inverse results in the identity matrix. A non square matrix does not have an inverse matrix.\n",
    "5. The **transposition** of a matrix is like rotating the matrix 90° in clockwise direction and then reversing it. $A_{ij} = A_{ji}^T$"
   ]
  },
  {
   "cell_type": "code",
   "execution_count": null,
   "metadata": {
    "collapsed": true
   },
   "outputs": [],
   "source": []
  }
 ],
 "metadata": {
  "kernelspec": {
   "display_name": "Python 3",
   "language": "python",
   "name": "python3"
  },
  "language_info": {
   "codemirror_mode": {
    "name": "ipython",
    "version": 3
   },
   "file_extension": ".py",
   "mimetype": "text/x-python",
   "name": "python",
   "nbconvert_exporter": "python",
   "pygments_lexer": "ipython3",
   "version": "3.6.3"
  }
 },
 "nbformat": 4,
 "nbformat_minor": 2
}
