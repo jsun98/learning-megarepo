{
 "cells": [
  {
   "cell_type": "markdown",
   "metadata": {},
   "source": [
    "# Multivariate Linear Regression"
   ]
  },
  {
   "cell_type": "markdown",
   "metadata": {},
   "source": [
    "## Formulae\n",
    "`hypothesis`: $h_\\theta(x) = \\theta_0x_0 + \\theta_1x_1 + \\theta_2x_2 + ... + \\theta_nx_n$ for n training examples, where x is the input feature vector of dimension n, and $x_0$ = 1\n",
    "\n",
    "\n",
    "$$\n",
    "    x=\n",
    "    \\begin{bmatrix}\n",
    "    x_0 \\\\\n",
    "    x_1 \\\\\n",
    "    ... \\\\\n",
    "    x_n \\\\\n",
    "    \\end{bmatrix}\n",
    "    \\theta=\n",
    "    \\begin{bmatrix}\n",
    "    \\theta_0 \\\\\n",
    "    \\theta_1 \\\\\n",
    "    ... \\\\\n",
    "    \\theta_n \\\\\n",
    "    \\end{bmatrix}\n",
    "$$\n",
    "\n",
    "$h_\\theta(x) = \\theta^Tx (matrix multiplication) = \\theta_0x_0 + \\theta_1x_1 + \\theta_2x_2 + ... + \\theta_nx_n$"
   ]
  },
  {
   "cell_type": "markdown",
   "metadata": {},
   "source": [
    "## Gradient Descent for multiple variables\n",
    "$J(\\theta) = \\frac{1}{2m}\\sum_{i=1}^m(h_\\theta(x^{(i)}) - y^{(i)})^2$\n",
    "\n",
    "where $\\theta$ is a n+1 dimensional vector and x is a n+1 dimensional vector with $x_0$ = 1\n",
    "\n",
    "repeat (update $\\theta_j$ for i=0,...,n simultaneously) {\n",
    "\n",
    "$\\theta_j := \\theta_j - \\alpha\\frac{1}{m}\\sum_{i=1}^m(h_\\theta(x^{(i)}) - y^{(i)})x^{(i)}_j$\n",
    "  \n",
    "}"
   ]
  },
  {
   "cell_type": "markdown",
   "metadata": {},
   "source": [
    "### Feature Scaling\n",
    "make sure features ($x_i$) are on similar scales.\n",
    "\n",
    "more specifically: **get every feature $x_i$ to be approximately -1 < $x_i$ < 1**\n",
    "\n",
    "#### Mean Normalization\n",
    "How to scale?\n",
    "\n",
    "$x_i = \\frac{feature - \\mu_i}{max(feature) - min(feature)}$\n",
    "\n",
    "where $\\mu_i$ is the arithmatic mean of values of feature"
   ]
  },
  {
   "cell_type": "markdown",
   "metadata": {},
   "source": [
    "## Learning Rate\n",
    "Declare convergence if $J(\\theta_i) - J(\\theta_{i+1}) < \\epsilon$, where $\\epsilon$ is a very small number (ex. $10^{-3}$)\n",
    "\n",
    "if $J(\\theta)$ is increasing or decreasing then increase perioidically, use smaller $\\alpha$\n",
    "\n",
    "if $\\alpha$ is sufficiently small, grandient descent can be slow to converge\n"
   ]
  },
  {
   "cell_type": "code",
   "execution_count": null,
   "metadata": {
    "collapsed": true
   },
   "outputs": [],
   "source": []
  }
 ],
 "metadata": {
  "kernelspec": {
   "display_name": "Python 3",
   "language": "python",
   "name": "python3"
  },
  "language_info": {
   "codemirror_mode": {
    "name": "ipython",
    "version": 3
   },
   "file_extension": ".py",
   "mimetype": "text/x-python",
   "name": "python",
   "nbconvert_exporter": "python",
   "pygments_lexer": "ipython3",
   "version": "3.6.3"
  }
 },
 "nbformat": 4,
 "nbformat_minor": 2
}
