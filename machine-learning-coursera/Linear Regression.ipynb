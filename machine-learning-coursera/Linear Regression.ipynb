{
 "cells": [
  {
   "cell_type": "markdown",
   "metadata": {},
   "source": [
    "# Linear Regression\n",
    "## Definitions\n",
    "- Supervised learning: we know what the outcome is, the traing set consists of an input and an expected output (labelled dataset)\n",
    "    - classification: output is discrete\n",
    "    - regression: output is non-discrete\n",
    "- Unsupervised learning: we don't know what the outcome is. Draw inference from unlabelled input training set.\n",
    "   \n",
    "## Formulae\n",
    "Hypothesis: $h_\\theta(x) = \\theta_0 + \\theta_1x$, where $\\theta_0, \\theta_1$ are input parameters\n",
    "\n",
    "Cost function: $J(\\theta_0, \\theta_1) = \\frac{1}{2m}\\sum_{i=1}^m(h_\\theta(x^{(i)}) - y^{(i)})^2$, for m training examples, the cost function is the sum of the squared difference of $h_\\theta(x)$ and y\n",
    "\n",
    "$min(J(\\theta_0, \\theta_1))$: find $\\theta_0, \\theta_1$ such that $J(\\theta_0, \\theta_1)$ is minimized, therefore $h_\\theta(x) = \\theta_0 + \\theta_1x$ results in a better fit through the dataset\n",
    "\n",
    "<img src=img/1.1.png width=500px>\n",
    "<img src=img/1.2.png width=1000px>\n",
    "Following along any concentric circle results in the same cost function but different parameters"
   ]
  },
  {
   "cell_type": "markdown",
   "metadata": {},
   "source": []
  },
  {
   "cell_type": "code",
   "execution_count": null,
   "metadata": {
    "collapsed": true
   },
   "outputs": [],
   "source": []
  },
  {
   "cell_type": "code",
   "execution_count": null,
   "metadata": {
    "collapsed": true
   },
   "outputs": [],
   "source": []
  }
 ],
 "metadata": {
  "kernelspec": {
   "display_name": "Python 3",
   "language": "python",
   "name": "python3"
  },
  "language_info": {
   "codemirror_mode": {
    "name": "ipython",
    "version": 3
   },
   "file_extension": ".py",
   "mimetype": "text/x-python",
   "name": "python",
   "nbconvert_exporter": "python",
   "pygments_lexer": "ipython3",
   "version": "3.6.3"
  }
 },
 "nbformat": 4,
 "nbformat_minor": 2
}
