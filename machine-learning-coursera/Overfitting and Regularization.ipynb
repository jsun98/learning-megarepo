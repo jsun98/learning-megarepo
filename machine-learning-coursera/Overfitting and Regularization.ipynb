{
 "cells": [
  {
   "cell_type": "markdown",
   "metadata": {},
   "source": [
    "# Overfitting"
   ]
  },
  {
   "cell_type": "markdown",
   "metadata": {},
   "source": [
    "## definitions\n",
    "`underfit` or `high bias`: the model doesn't fit the data\n",
    "\n",
    "`overfit` or `high variance`: when there are too many input features, the model may fit the training data really well, but fail to generalize new examples"
   ]
  },
  {
   "cell_type": "markdown",
   "metadata": {},
   "source": [
    "## Addressing overfitting\n",
    "1. reduce the number of features\n",
    "    - manually select which ones to keep\n",
    "    - model selecting algorithm\n",
    "2. regularization\n",
    "    - keep all features, but reduce the magnitude/weight $\\theta_i$ of the features\n",
    "    - works well with many features"
   ]
  },
  {
   "cell_type": "markdown",
   "metadata": {},
   "source": [
    "# Regularization\n",
    "We can modify our cost function $J(\\theta)$ to $J(\\theta) + 1000\\times\\theta_i$, so that when minimizing the cost function, $\\theta_i$ will be small. \n",
    "\n",
    "Small values for parameters $\\theta_i$ lead to 'simpler' hypothesis and is less prone to overfitting"
   ]
  },
  {
   "cell_type": "markdown",
   "metadata": {
    "collapsed": true
   },
   "source": [
    "## Regularized Linear Regression\n",
    "\n",
    "new cost function (linear regression): \n",
    "$$\n",
    "J(\\theta_0, \\theta_1) = \\frac{1}{2m}\\sum_{i=1}^m\\lbrack(h_\\theta(x^{(i)}) - y^{(i)})^2 + \\lambda\\sum_{i=1}^n\\theta_j^2\\rbrack\n",
    "$$\n",
    "\n",
    "if $\\lambda$, the **regularization parameter** is very large, our hypothesis will become $h_\\theta(x) = \\theta_0$, a flat line, resulting in a case of underfitting\n",
    "\n",
    "repeat until convergence (update simultaneously) {\n",
    "\n",
    "  $\\theta_0 := \\theta_0 - \\alpha\\frac{1}{m}\\sum_{i=1}^m(h_\\theta(x^{(i)}) - y^{(i)})_0$\n",
    "  \n",
    "  $\\theta_j := \\theta_j - \\alpha\\lbrack\\frac{1}{m}\\sum_{i=1}^m(h_\\theta(x^{(i)}) - y^{(i)}) * x^{(i)}_j + \\frac{\\lambda}{m}\\theta_j\\rbrack$, for j = 1, 2,...,n\n",
    "\n",
    "}"
   ]
  },
  {
   "cell_type": "markdown",
   "metadata": {},
   "source": [
    "## Regularized Logistic Regression\n",
    "repeat until convergence (update simultaneously) {\n",
    "\n",
    "  $\\theta_0 := \\theta_0 - \\alpha\\frac{1}{m}\\sum_{i=1}^m(h_\\theta(x^{(i)}) - y^{(i)})_0$\n",
    "  \n",
    "  $\\theta_j := \\theta_j - \\alpha\\lbrack\\frac{1}{m}\\sum_{i=1}^m(h_\\theta(x^{(i)}) - y^{(i)}) * x^{(i)}_j + \\frac{\\lambda}{m}\\theta_j\\rbrack$, for j = 1, 2,...,n\n",
    "\n",
    "}\n",
    "\n",
    "note: even though the algorithm looks cosmetically the same as linear regression, our hypothesis has changed to the sigmoid function!"
   ]
  }
 ],
 "metadata": {
  "kernelspec": {
   "display_name": "Python 3",
   "language": "python",
   "name": "python3"
  },
  "language_info": {
   "codemirror_mode": {
    "name": "ipython",
    "version": 3
   },
   "file_extension": ".py",
   "mimetype": "text/x-python",
   "name": "python",
   "nbconvert_exporter": "python",
   "pygments_lexer": "ipython3",
   "version": "3.6.3"
  }
 },
 "nbformat": 4,
 "nbformat_minor": 2
}
