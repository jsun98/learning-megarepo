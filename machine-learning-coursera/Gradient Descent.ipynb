{
 "cells": [
  {
   "cell_type": "markdown",
   "metadata": {},
   "source": [
    "# Gradient Descent\n",
    "## Introduction\n",
    "have some $J(\\theta_0, \\theta_1)$, want $min_{\\theta_0, \\theta_1}J(\\theta_0, \\theta_1)$\n",
    "## Outline\n",
    "1. start with some $\\theta_0, \\theta_1$\n",
    "2. keep changing $\\theta_0, \\theta_1$ to reduce J\n",
    "3. hopefully we find the minimum\n",
    "\n",
    "<img src=img/2.1.png width=500px>\n"
   ]
  },
  {
   "cell_type": "markdown",
   "metadata": {},
   "source": [
    "## Gradient Descent Algorithm\n",
    "repeat until convergence {\n",
    "    $\\theta_j := \\theta_j - \\alpha\\frac{\\partial}{\\partial\\theta_j}J(\\theta_0, \\theta_1)$\n",
    "}, where $\\alpha$ is the rate of descent, if $\\alpha$ is too small, the algorithm will be too slow, if $\\alpha$ is too large, the algorithm may overshoort the minimum \n",
    "\n",
    "even with constant $\\alpha$, gradient descent will converge to a **local minimum**. As it approaches the minimum, the derivative will decreases, thus the magnitude of the update will be smaller automatically.\n",
    "\n",
    "**must update $\\theta_0, \\theta_1$ simultaneously**:\n",
    "\n",
    "temp0 := $\\theta_0 - \\alpha\\frac{\\partial}{\\partial\\theta_j}J(\\theta_0, \\theta_1)$\n",
    "\n",
    "temp1 := $\\theta_1 - \\alpha\\frac{\\partial}{\\partial\\theta_j}J(\\theta_0, \\theta_1)$\n",
    "\n",
    "$\\theta_0$ := temp0\n",
    "\n",
    "$\\theta_1$ := temp1"
   ]
  },
  {
   "cell_type": "markdown",
   "metadata": {},
   "source": [
    "## Gradient Descent for Linear Regression\n",
    "repeat until convergence (update simultaneously) {\n",
    "\n",
    "  $\\theta_0 := \\theta_0 - \\alpha\\frac{1}{m}\\sum_{i=1}^m(h_\\theta(x^{(i)}) - y^{(i)})$\n",
    "  \n",
    "  $\\theta_1 := \\theta_1 - \\alpha\\frac{1}{m}\\sum_{i=1}^m(h_\\theta(x^{(i)}) - y^{(i)}) * x^{(i)}$\n",
    "\n",
    "}"
   ]
  },
  {
   "cell_type": "markdown",
   "metadata": {
    "collapsed": true
   },
   "source": [
    "## Drawbacks of Gradient Descent\n",
    "Gradient descent can converge to a local optima that is not necessaily the global optima, but fortunately, it turns out that for all cost functions $J(θ_0,θ_1)$, there is only 1 local minimum - a bow shaped function (technical term: a **convex function**)."
   ]
  },
  {
   "cell_type": "code",
   "execution_count": null,
   "metadata": {
    "collapsed": true
   },
   "outputs": [],
   "source": []
  }
 ],
 "metadata": {
  "kernelspec": {
   "display_name": "Python 3",
   "language": "python",
   "name": "python3"
  },
  "language_info": {
   "codemirror_mode": {
    "name": "ipython",
    "version": 3
   },
   "file_extension": ".py",
   "mimetype": "text/x-python",
   "name": "python",
   "nbconvert_exporter": "python",
   "pygments_lexer": "ipython3",
   "version": "3.6.3"
  }
 },
 "nbformat": 4,
 "nbformat_minor": 2
}
