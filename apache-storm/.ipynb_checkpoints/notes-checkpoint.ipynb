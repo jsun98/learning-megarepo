{
 "cells": [
  {
   "cell_type": "markdown",
   "metadata": {},
   "source": [
    "# Apache Storm notes"
   ]
  },
  {
   "cell_type": "markdown",
   "metadata": {},
   "source": [
    "## Components\n",
    "- Topology: a graph of computation\n",
    "    - each worker process executes a subset of a topology\n",
    "- master node: runs a daemon called 'Nimbus'\n",
    "- child node: runs a daemon called 'Supervisor'\n",
    "- Zookeeper: coordinates Numbus and Supervisors\n",
    "<img src='http://storm.apache.org/releases/current/images/storm-cluster.png' width=350px; />"
   ]
  },
  {
   "cell_type": "markdown",
   "metadata": {},
   "source": [
    "## Topologies\n",
    "A graph of computation. Consists of **Sprouts** and **Bolts**. A topology runs forever.\n",
    "Running a topology:\n",
    "`storm jar all-my-code.jar org.apache.storm.MyTopology arg1 arg2`\n"
   ]
  },
  {
   "cell_type": "markdown",
   "metadata": {},
   "source": [
    "### Streams\n",
    "A stream is an unvounded sequence of tuples.\n",
    "\n",
    "**Sprout**: source of streams, emits a stream\n",
    "**Bolt**: consume any number of input streams, process them, then (possibly) emit new streams\n",
    "\n",
    "[](http://storm.apache.org/releases/current/images/topology.png)\n",
    "\n"
   ]
  },
  {
   "cell_type": "markdown",
   "metadata": {},
   "source": [
    "## Data model\n",
    "Storm uses **tuples** as its data model. A tuple is a named list of values, and a field in a tuple can be an object of any type. \n",
    "\n",
    "Every node in a topology must declare the output fields for the tuples it emits.\n",
    "\n",
    "```java\n",
    "public class DoubleAndTripleBolt extends BaseRichBolt {\n",
    "    private OutputCollectorBase _collector;\n",
    "\n",
    "    @Override\n",
    "    public void prepare(Map conf, TopologyContext context, OutputCollectorBase collector) {\n",
    "        _collector = collector;\n",
    "    }\n",
    "\n",
    "    @Override\n",
    "    public void execute(Tuple input) {\n",
    "        int val = input.getInteger(0);        \n",
    "        _collector.emit(input, new Values(val*2, val*3));\n",
    "        _collector.ack(input);\n",
    "    }\n",
    "\n",
    "    @Override\n",
    "    public void declareOutputFields(OutputFieldsDeclarer declarer) {\n",
    "        declarer.declare(new Fields(\"double\", \"triple\"));\n",
    "    }    \n",
    "}\n",
    "```"
   ]
  },
  {
   "cell_type": "code",
   "execution_count": 1,
   "metadata": {},
   "outputs": [
    {
     "name": "stderr",
     "output_type": "stream",
     "text": [
      "org.codehaus.groovy.control.MultipleCompilationErrorsException: startup failed:\n",
      "Script1.groovy: 1: unable to resolve class BaseRichBolt \n",
      " @ line 1, column 1.\n",
      "   public class DoubleAndTripleBolt extends BaseRichBolt {\n",
      "   ^\n",
      "\n",
      "Script1.groovy: 2: unable to resolve class OutputCollectorBase \n",
      " @ line 2, column 5.\n",
      "       private OutputCollectorBase _collector;\n",
      "       ^\n",
      "\n",
      "Script1.groovy: 5: unable to resolve class TopologyContext \n",
      " @ line 5, column 35.\n",
      "       public void prepare(Map conf, TopologyContext context, OutputCollectorBase collector) {\n",
      "                                     ^\n",
      "\n",
      "Script1.groovy: 5: unable to resolve class OutputCollectorBase \n",
      " @ line 5, column 60.\n",
      "   onf, TopologyContext context, OutputColl\n",
      "                                 ^\n",
      "\n",
      "Script1.groovy: 12: unable to resolve class Values \n",
      " @ line 12, column 32.\n",
      "           _collector.emit(input, new Values(val*2, val*3));\n",
      "                                  ^\n",
      "\n",
      "Script1.groovy: 17: unable to resolve class OutputFieldsDeclarer \n",
      " @ line 17, column 37.\n",
      "       public void declareOutputFields(OutputFieldsDeclarer declarer) {\n",
      "                                       ^\n",
      "\n",
      "Script1.groovy: 18: unable to resolve class Fields \n",
      " @ line 18, column 26.\n",
      "           declarer.declare(new Fields(\"double\", \"triple\"));\n",
      "                            ^\n",
      "\n",
      "7 errors\n",
      "\n",
      "\tat org.codehaus.groovy.control.ErrorCollector.failIfErrors(ErrorCollector.java:310)\n",
      "\tat org.codehaus.groovy.control.CompilationUnit.applyToSourceUnits(CompilationUnit.java:958)\n",
      "\tat org.codehaus.groovy.control.CompilationUnit.doPhaseOperation(CompilationUnit.java:605)\n",
      "\tat org.codehaus.groovy.control.CompilationUnit.compile(CompilationUnit.java:554)\n",
      "\tat groovy.lang.GroovyClassLoader.doParseClass(GroovyClassLoader.java:298)\n",
      "\tat groovy.lang.GroovyClassLoader.parseClass(GroovyClassLoader.java:268)\n",
      "\tat groovy.lang.GroovyClassLoader.parseClass(GroovyClassLoader.java:254)\n",
      "\tat groovy.lang.GroovyClassLoader.parseClass(GroovyClassLoader.java:250)\n",
      "\tat org.scijava.plugins.scripting.groovy.GroovyScriptEngine.getScriptClass(GroovyScriptEngine.java:319)\n",
      "\tat org.scijava.plugins.scripting.groovy.GroovyScriptEngine.eval(GroovyScriptEngine.java:122)\n",
      "\tat javax.script.AbstractScriptEngine.eval(AbstractScriptEngine.java:264)\n",
      "\tat org.scijava.script.ScriptModule.run(ScriptModule.java:159)\n",
      "\tat org.scijava.module.ModuleRunner.run(ModuleRunner.java:167)\n",
      "\tat org.scijava.jupyter.kernel.evaluator.Worker.run(Worker.java:109)\n",
      "\tat org.scijava.thread.DefaultThreadService$2.run(DefaultThreadService.java:220)\n",
      "\tat java.util.concurrent.Executors$RunnableAdapter.call(Executors.java:511)\n",
      "\tat java.util.concurrent.FutureTask.run(FutureTask.java:266)\n",
      "\tat java.util.concurrent.ThreadPoolExecutor.runWorker(ThreadPoolExecutor.java:1142)\n",
      "\tat java.util.concurrent.ThreadPoolExecutor$Worker.run(ThreadPoolExecutor.java:617)\n",
      "\tat java.lang.Thread.run(Thread.java:745)\n"
     ]
    },
    {
     "data": {
      "text/plain": [
       "No Outputs"
      ]
     },
     "execution_count": 1,
     "metadata": {},
     "output_type": "execute_result"
    }
   ],
   "source": []
  },
  {
   "cell_type": "code",
   "execution_count": null,
   "metadata": {
    "collapsed": true
   },
   "outputs": [],
   "source": []
  }
 ],
 "metadata": {
  "kernelspec": {
   "display_name": "SciJava",
   "language": "groovy",
   "name": "scijava"
  },
  "language_info": {
   "codemirror_mode": "groovy",
   "file_extension": "",
   "mimetype": "",
   "name": "scijava",
   "nbconverter_exporter": "",
   "pygments_lexer": "groovy",
   "version": "1.0"
  }
 },
 "nbformat": 4,
 "nbformat_minor": 2
}
