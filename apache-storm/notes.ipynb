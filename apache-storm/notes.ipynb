{
 "cells": [
  {
   "cell_type": "markdown",
   "metadata": {},
   "source": [
    "# Apache Storm notes\n",
    "[](https://github.com/apache/storm/tree/v1.1.1/examples/storm-starter)\n"
   ]
  },
  {
   "cell_type": "markdown",
   "metadata": {},
   "source": [
    "[](http://storm.apache.org/releases/current/Tutorial.html)\n",
    "\n",
    "## Components\n",
    "- Topology: a graph of computation\n",
    "    - each worker process executes a subset of a topology\n",
    "- master node: runs a daemon called 'Nimbus'\n",
    "- child node: runs a daemon called 'Supervisor'\n",
    "- Zookeeper: coordinates Numbus and Supervisors\n",
    "<img src='http://storm.apache.org/releases/current/images/storm-cluster.png' width=350px; />"
   ]
  },
  {
   "cell_type": "markdown",
   "metadata": {},
   "source": [
    "## Topologies\n",
    "A graph of computation. Consists of **Spouts** and **Bolts**. A topology runs forever.\n",
    "Running a topology:\n",
    "`storm jar all-my-code.jar org.apache.storm.MyTopology arg1 arg2`\n"
   ]
  },
  {
   "cell_type": "markdown",
   "metadata": {},
   "source": [
    "### Streams\n",
    "A stream is an unbounded sequence of tuples.\n",
    "\n",
    "**Spout**: source of streams, emits a stream\n",
    "\n",
    "**Bolt**: consume any number of input streams, process them, then (possibly) emit new streams\n",
    "\n",
    "[](http://storm.apache.org/releases/current/images/topology.png)\n",
    "\n"
   ]
  },
  {
   "cell_type": "markdown",
   "metadata": {},
   "source": [
    "## Data model\n",
    "Storm uses **tuples** as its data model. A tuple is a named list of values, and a field in a tuple can be an object of any type. \n",
    "\n",
    "Every node in a topology must declare the output fields for the tuples it emits.\n",
    "\n",
    "```java\n",
    "    @Override\n",
    "    public void declareOutputFields(OutputFieldsDeclarer declarer) {\n",
    "        declarer.declare(new Fields(\"double\", \"triple\"));\n",
    "    }    \n",
    "```"
   ]
  },
  {
   "cell_type": "markdown",
   "metadata": {},
   "source": [
    "## Code example for topology\n",
    "```java\n",
    "TopologyBuilder builder = new TopologyBuilder();        \n",
    "builder.setSpout(\"words\", new TestWordSpout(), 10);        \n",
    "builder.setBolt(\"exclaim1\", new ExclamationBolt(), 3)\n",
    "        .shuffleGrouping(\"words\");\n",
    "builder.setBolt(\"exclaim2\", new ExclamationBolt(), 2)\n",
    "        .shuffleGrouping(\"exclaim1\");\n",
    "```\n",
    "\n",
    "`TopologyBuilder.setSpout(String id, Object processingLogic, optional int parallelism)`\n",
    "`TopologyBuilder.setBolt(String id, Object processingLogic, optional int parallelism)`\n",
    "\n",
    "### Stream grouping\n",
    "- `shuffle grouping`: evenly distributes the work of processing the tuples across all of the bolt's tasks\n",
    "- `fields grouping`\": groups a stream by a subset of its fields, tuples of equal values for that subset of fields always go to the same task\n",
    "- ..."
   ]
  },
  {
   "cell_type": "markdown",
   "metadata": {},
   "source": [
    "## Code example for Bolt\n",
    "```java\n",
    "// BaseRichBolt provides default implementation where appropriate\n",
    "public static class ExclamationBolt extends BaseRichBolt {\n",
    "    // OutputCollector is used for emitting tuples from this bolt\n",
    "    OutputCollector _collector;\n",
    "\n",
    "    @Override\n",
    "    public void prepare(Map conf, TopologyContext context, OutputCollector collector) {\n",
    "        _collector = collector;\n",
    "    }\n",
    "\n",
    "    @Override\n",
    "    public void execute(Tuple tuple) {\n",
    "        // tuple: input tuple\n",
    "        // emits \n",
    "        _collector.emit(tuple, new Values(tuple.getString(0) + \"!!!\"));\n",
    "        \n",
    "        // for Storm's reliability API\n",
    "        _collector.ack(tuple);\n",
    "    }\n",
    "\n",
    "    @Override\n",
    "    public void declareOutputFields(OutputFieldsDeclarer declarer) {\n",
    "        // declare an output of 1-tuple named word\n",
    "        declarer.declare(new Fields(\"word\"));\n",
    "    }    \n",
    "}\n",
    "```"
   ]
  },
  {
   "cell_type": "markdown",
   "metadata": {},
   "source": [
    "## Code example for Spout\n",
    "```java\n",
    "public void nextTuple() {\n",
    "    Utils.sleep(100);\n",
    "    final String[] words = new String[] {\"nathan\", \"mike\", \"jackson\", \"golda\", \"bertels\"};\n",
    "    final Random rand = new Random();\n",
    "    final String word = words[rand.nextInt(words.length)];\n",
    "    _collector.emit(new Values(word));\n",
    "}\n",
    "```\n",
    "Emits a 1-tuple 'word' every 100 ms"
   ]
  },
  {
   "cell_type": "code",
   "execution_count": null,
   "metadata": {
    "collapsed": true
   },
   "outputs": [],
   "source": []
  }
 ],
 "metadata": {
  "kernelspec": {
   "display_name": "SciJava",
   "language": "groovy",
   "name": "scijava"
  },
  "language_info": {
   "codemirror_mode": "groovy",
   "file_extension": "",
   "mimetype": "",
   "name": "scijava",
   "nbconverter_exporter": "",
   "pygments_lexer": "groovy",
   "version": "1.0"
  }
 },
 "nbformat": 4,
 "nbformat_minor": 2
}
