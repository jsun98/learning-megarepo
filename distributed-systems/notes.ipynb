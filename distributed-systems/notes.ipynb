{
 "cells": [
  {
   "cell_type": "markdown",
   "metadata": {},
   "source": [
    "# Distributed System\n",
    "\n",
    "## Topics\n",
    "**Storage**: relational/Mongo, Cassandra, HDFS\n",
    "**Computation**: Hadoop, Spark, Storm\n",
    "**Synchronization**: NTP, vector clocks\n",
    "**Concensus**: Paxos, Zookeeper\n",
    "\n",
    "## What is a distributed system?\n",
    "- a collection of machines that work together and appear to its users as one\n",
    "- these machines fail independently\n",
    "- the machines do not share a common global glock\n",
    "\n",
    "## "
   ]
  }
 ],
 "metadata": {
  "kernelspec": {
   "display_name": "Python 3",
   "language": "python",
   "name": "python3"
  },
  "language_info": {
   "codemirror_mode": {
    "name": "ipython",
    "version": 3
   },
   "file_extension": ".py",
   "mimetype": "text/x-python",
   "name": "python",
   "nbconvert_exporter": "python",
   "pygments_lexer": "ipython3",
   "version": "3.6.3"
  }
 },
 "nbformat": 4,
 "nbformat_minor": 2
}
