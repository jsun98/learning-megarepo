{
 "cells": [
  {
   "cell_type": "markdown",
   "metadata": {},
   "source": [
    "# Distributed System\n",
    "\n",
    "## Topics\n",
    "**Storage**: relational/Mongo, Cassandra, HDFS\n",
    "**Computation**: Hadoop, Spark, Storm\n",
    "**Synchronization**: NTP, vector clocks\n",
    "**Concensus**: Paxos, Zookeeper\n",
    "\n",
    "## What is a distributed system?\n",
    "- a collection of machines that work together and appear to its users as one\n",
    "- these machines fail independently\n",
    "- the machines do not share a common global glock\n",
    "\n",
    "## Read Replication\n",
    "a master machine can replicate its data to child machines. When new data is added to the master machine, the change is propagated, but not all child machines will be consistent.\n"
   ]
  }
 ],
 "metadata": {
  "kernelspec": {
   "display_name": "Python 3",
   "language": "python",
   "name": "python3"
  },
  "language_info": {
   "codemirror_mode": {
    "name": "ipython",
    "version": 3
   },
   "file_extension": ".py",
   "mimetype": "text/x-python",
   "name": "python",
   "nbconvert_exporter": "python",
   "pygments_lexer": "ipython3",
   "version": "3.6.3"
  }
 },
 "nbformat": 4,
 "nbformat_minor": 2
}
