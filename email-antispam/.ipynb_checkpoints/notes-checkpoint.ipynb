{
 "cells": [
  {
   "cell_type": "markdown",
   "metadata": {},
   "source": [
    "## Topics\n",
    "- Vowpal Wabbit\n",
    "- Locality Sensitive Hashing (LSH)\n",
    "- Apache Storm\n",
    "- Apache hadoop and HDFS\n",
    "- AdaBoost classifier\n",
    "- Gradient Boost Decision Tree (GBDT)\n",
    "- cluster analysis and clustering algorithms"
   ]
  },
  {
   "cell_type": "markdown",
   "metadata": {},
   "source": [
    "## Abaca Improvement Project\n",
    "### initial notes\n",
    "- noisy feature data may not work well with ML models\n",
    "- need to add weights to features\n",
    "- 1% of senders send over 50% of all emails, which will affect the model\n",
    "\n",
    "### Project plan\n",
    "\n",
    "Naive Bayesian --> Linear Regression --> incorporate retro data --> Logistic Regression --> Random Forest\n",
    "\n",
    "(current ~93% acc.)\n",
    "\n",
    "### Todo\n",
    "- [ ] learn vowpal_wabbit\n",
    "- [ ] evaluate which tools to use (Python/Java/C++)\n",
    "- [ ] design model\n",
    "    - [ ] design input features\n",
    "    - [ ] build model with vw\n",
    "    - [ ] add weight to different features\n",
    "    - [ ] run model with different learning rate and compare\n",
    "- [ ] design input features into model\n",
    "- [ ] grab data with pig script, parse and feed into script\n",
    "\n",
    "### Useful git repos and links\n",
    "- AbacaInbound [link](https://git.ouroath.com/asd/AbacaInbound)\n",
    "- AbacaDecoder documentation [link](https://git.ouroath.com/asd/AbacaInbound/blob/master/rotla/doc/abaca_decoder.html)\n",
    "- AbacaInboundMessage\n",
    "    - AbacaInboundResponse.java??"
   ]
  },
  {
   "cell_type": "markdown",
   "metadata": {},
   "source": [
    "## Cluster Analysis \n",
    "[*A tutorial on Clustering Algorithms*](https://home.deib.polimi.it/matteucc/Clustering/tutorial_html/)\n",
    "\n",
    "**Clustering** is the grouping of a particular set of objects based on their characteristics, aggregating them according to their similarities. An important problem in *unsupervised learning*, it deals with finding a structure in a collection of unlabeled data.\n",
    "\n",
    "```\n",
    "A cluster is therefore a collection of objects which are “similar” between them and are “dissimilar” to the objects belonging to other clusters.\n",
    "```\n",
    "\n",
    "Regarding emails, a clustering algorithm aims to recognize messages that deal with similar topic and aggregate them into one cluster, then identifying which clusters can be marked as spam."
   ]
  },
  {
   "cell_type": "markdown",
   "metadata": {},
   "source": [
    "## Clustering Algorithms\n",
    "Clustering algorithms may be classified as listed below:\n",
    "- Exclusive Clustering: a datum can only be in one cluster\n",
    "- Overlapping Clustering: a datum may belong to two or more clusters with different degrees of membership\n",
    "- Hierarchical Clustering: based on the union of 2 nearest clusters, beginning condition is that every datum is a cluster, after x iterations, we reach the final clusters wanted\n",
    "- Probabilistic Clustering: based on probability distributions\n",
    "\n",
    "4 Common Algorithms:\n",
    "- K-means\n",
    "- Fuzzy C-means\n",
    "- Hierarchical clustering\n",
    "- Mixture of Gaussians\n",
    "\n",
    "\n"
   ]
  },
  {
   "cell_type": "markdown",
   "metadata": {},
   "source": [
    "## Locality Sensitive Hashing (LSH)\n",
    "[](http://www.mit.edu/~andoni/LSH/)\n",
    "\n"
   ]
  },
  {
   "cell_type": "markdown",
   "metadata": {},
   "source": []
  }
 ],
 "metadata": {
  "kernelspec": {
   "display_name": "Python 3",
   "language": "python",
   "name": "python3"
  },
  "language_info": {
   "codemirror_mode": {
    "name": "ipython",
    "version": 3
   },
   "file_extension": ".py",
   "mimetype": "text/x-python",
   "name": "python",
   "nbconvert_exporter": "python",
   "pygments_lexer": "ipython3",
   "version": "3.6.3"
  }
 },
 "nbformat": 4,
 "nbformat_minor": 2
}
