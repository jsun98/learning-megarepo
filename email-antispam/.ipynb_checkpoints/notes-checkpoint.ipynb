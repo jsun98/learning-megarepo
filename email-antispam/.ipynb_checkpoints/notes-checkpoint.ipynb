{
 "cells": [
  {
   "cell_type": "markdown",
   "metadata": {},
   "source": [
    "# "
   ]
  },
  {
   "cell_type": "markdown",
   "metadata": {},
   "source": [
    "## Clustering\n",
    "!()[https://home.deib.polimi.it/matteucc/Clustering/tutorial_html/]\n",
    "\n",
    "**Clustering** is the grouping of a particular set of objects based on their characteristics, aggregating them according to their similarities. An important problem in *unsupervised learning*, it deals with finding a structure in a collection of unlabeled data.\n",
    "\n",
    "Regarding emails, a clustering algorithm aims to recognize messages that deal with similar topic and aggregate them into one cluster, then identifying which clusters can be marked as spam."
   ]
  }
 ],
 "metadata": {
  "kernelspec": {
   "display_name": "Python 3",
   "language": "python",
   "name": "python3"
  },
  "language_info": {
   "codemirror_mode": {
    "name": "ipython",
    "version": 3
   },
   "file_extension": ".py",
   "mimetype": "text/x-python",
   "name": "python",
   "nbconvert_exporter": "python",
   "pygments_lexer": "ipython3",
   "version": "3.6.3"
  }
 },
 "nbformat": 4,
 "nbformat_minor": 2
}
